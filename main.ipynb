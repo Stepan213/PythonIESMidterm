{
 "cells": [
  {
   "cell_type": "code",
   "execution_count": 16,
   "metadata": {},
   "outputs": [
    {
     "name": "stdout",
     "output_type": "stream",
     "text": [
      "        Date       High        Low       Open      Close     Volume  Adj Close\n",
      "0 2017-11-13  76.300003  74.699997  74.769997  76.129997  2280700.0  64.259972\n",
      "1 2017-11-14  77.440002  75.779999  75.930000  77.389999  2050500.0  65.323524\n",
      "2 2017-11-15  77.930000  76.459999  77.570000  76.589996  2187200.0  64.648254\n",
      "3 2017-11-16  76.790001  76.309998  76.570000  76.760002  1750100.0  64.791740\n",
      "4 2017-11-17  76.889999  76.099998  76.489998  76.379997  1720900.0  64.471001\n",
      "        Date        High        Low        Open       Close     Volume  \\\n",
      "0 2017-11-13   99.970001  98.760002   98.900002   99.440002  1851400.0   \n",
      "1 2017-11-14  100.050003  98.510002   98.889999   99.940002  2148300.0   \n",
      "2 2017-11-15  101.120003  99.300003   99.480003  100.379997  2548900.0   \n",
      "3 2017-11-16  100.699997  99.169998  100.510002   99.570000  2138400.0   \n",
      "4 2017-11-17  100.430000  99.050003   99.050003  100.169998  2880000.0   \n",
      "\n",
      "   Adj Close  \n",
      "0  88.976433  \n",
      "1  89.423820  \n",
      "2  89.817535  \n",
      "3  89.092781  \n",
      "4  89.629654  \n",
      "        Date        High        Low       Open      Close      Volume  \\\n",
      "0 2017-11-13   91.980003  90.870003  91.040001  90.989998   8491600.0   \n",
      "1 2017-11-14   91.199997  90.180000  90.699997  91.089996   9834100.0   \n",
      "2 2017-11-15   90.849998  89.650002  90.339996  89.830002   8433400.0   \n",
      "3 2017-11-16   99.680000  94.720001  95.120003  99.620003  38122400.0   \n",
      "4 2017-11-17  100.129997  96.580002  99.239998  97.470001  23575500.0   \n",
      "\n",
      "   Adj Close  \n",
      "0  83.464844  \n",
      "1  83.556557  \n",
      "2  82.400780  \n",
      "3  91.381104  \n",
      "4  89.408928  \n",
      "        Date       High        Low       Open      Close     Volume  Adj Close\n",
      "0 2017-11-13  30.537779  30.257778  30.408890  30.280001   879075.0  27.182333\n",
      "1 2017-11-14  30.324444  30.022223  30.284445  30.124443  1148175.0  27.042690\n",
      "2 2017-11-15  30.488890  29.946667  30.040001  30.266666   811575.0  27.170368\n",
      "3 2017-11-16  30.342222  29.760000  30.266666  29.813334   980775.0  26.763409\n",
      "4 2017-11-17  29.942223  29.697779  29.755556  29.795555   953325.0  26.747446\n"
     ]
    }
   ],
   "source": [
    "import pandas as pd\n",
    "\n",
    "# Import all 4 tickers from the files to pandas DataFrames\n",
    "aep = pd.read_csv(\"data/AEP.csv\")\n",
    "all = pd.read_csv(\"data/ALL.csv\")\n",
    "wmt = pd.read_csv(\"data/WMT.csv\")\n",
    "wrb = pd.read_csv(\"data/WRB.csv\")\n",
    "\n",
    "tickers = [aep, all, wmt, wrb]\n",
    "\n",
    "# Make sure that dates are datetimes format\n",
    "for ticker in tickers:\n",
    "    ticker[\"Date\"] = pd.to_datetime(ticker[\"Date\"])"
   ]
  },
  {
   "cell_type": "markdown",
   "metadata": {},
   "source": [
    "1) Is there a company that has no difference between the Close and Adj Close columns?\n",
    "What does it mean from the financial point of view for the stock (you can get bonus\n",
    "partial points)?\n",
    "\n",
    "<strong>No.</strong> Not commenting on the implications at this point."
   ]
  },
  {
   "cell_type": "code",
   "execution_count": 17,
   "metadata": {},
   "outputs": [
    {
     "name": "stdout",
     "output_type": "stream",
     "text": [
      "0\n"
     ]
    }
   ],
   "source": [
    "have_identical_cols = []\n",
    "\n",
    "for ticker in tickers:\n",
    "    if ticker[\"Close\"].equals(ticker[\"Adj Close\"]):\n",
    "        have_identical_cols.append(ticker)\n",
    "    \n",
    "print(len(have_identical_cols))"
   ]
  },
  {
   "cell_type": "markdown",
   "metadata": {},
   "source": [
    "2. What is the highest and lowest price (Adj Close) each company recorded?"
   ]
  },
  {
   "cell_type": "code",
   "execution_count": 24,
   "metadata": {},
   "outputs": [
    {
     "data": {
      "text/html": [
       "<div>\n",
       "<style scoped>\n",
       "    .dataframe tbody tr th:only-of-type {\n",
       "        vertical-align: middle;\n",
       "    }\n",
       "\n",
       "    .dataframe tbody tr th {\n",
       "        vertical-align: top;\n",
       "    }\n",
       "\n",
       "    .dataframe thead th {\n",
       "        text-align: right;\n",
       "    }\n",
       "</style>\n",
       "<table border=\"1\" class=\"dataframe\">\n",
       "  <thead>\n",
       "    <tr style=\"text-align: right;\">\n",
       "      <th></th>\n",
       "      <th>Name</th>\n",
       "      <th>Highest</th>\n",
       "      <th>Lowest</th>\n",
       "    </tr>\n",
       "  </thead>\n",
       "  <tbody>\n",
       "    <tr>\n",
       "      <th>0</th>\n",
       "      <td>AEP</td>\n",
       "      <td>104.201859</td>\n",
       "      <td>54.017570</td>\n",
       "    </tr>\n",
       "    <tr>\n",
       "      <th>1</th>\n",
       "      <td>ALL</td>\n",
       "      <td>141.972992</td>\n",
       "      <td>68.755844</td>\n",
       "    </tr>\n",
       "    <tr>\n",
       "      <th>2</th>\n",
       "      <td>WMT</td>\n",
       "      <td>159.869995</td>\n",
       "      <td>77.321236</td>\n",
       "    </tr>\n",
       "    <tr>\n",
       "      <th>3</th>\n",
       "      <td>WRB</td>\n",
       "      <td>75.290001</td>\n",
       "      <td>26.408318</td>\n",
       "    </tr>\n",
       "  </tbody>\n",
       "</table>\n",
       "</div>"
      ],
      "text/plain": [
       "  Name     Highest     Lowest\n",
       "0  AEP  104.201859  54.017570\n",
       "1  ALL  141.972992  68.755844\n",
       "2  WMT  159.869995  77.321236\n",
       "3  WRB   75.290001  26.408318"
      ]
     },
     "execution_count": 24,
     "metadata": {},
     "output_type": "execute_result"
    }
   ],
   "source": [
    "data = {\"Name\":[\"AEP\", \"ALL\", \"WMT\", \"WRB\"], \"Highest\":[-1,-1,-1,-1], \"Lowest\":[-1,-1,-1,-1]}\n",
    "extremes = pd.DataFrame(data)\n",
    "\n",
    "extremes[\"Highest\"] = pd.Series([aep[\"Adj Close\"].max(), all[\"Adj Close\"].max(), wmt[\"Adj Close\"].max(), wrb[\"Adj Close\"].max()])\n",
    "extremes[\"Lowest\"] = pd.Series([aep[\"Adj Close\"].min(), all[\"Adj Close\"].min(), wmt[\"Adj Close\"].min(), wrb[\"Adj Close\"].min()])\n",
    "\n",
    "extremes"
   ]
  },
  {
   "cell_type": "markdown",
   "metadata": {},
   "source": [
    "3. (1pt task) Calculate logarithmic returns from Adj Close. For each company report on\n",
    "its, min, max, mean, median of the return distribution."
   ]
  },
  {
   "cell_type": "code",
   "execution_count": 37,
   "metadata": {},
   "outputs": [
    {
     "data": {
      "text/html": [
       "<div>\n",
       "<style scoped>\n",
       "    .dataframe tbody tr th:only-of-type {\n",
       "        vertical-align: middle;\n",
       "    }\n",
       "\n",
       "    .dataframe tbody tr th {\n",
       "        vertical-align: top;\n",
       "    }\n",
       "\n",
       "    .dataframe thead th {\n",
       "        text-align: right;\n",
       "    }\n",
       "</style>\n",
       "<table border=\"1\" class=\"dataframe\">\n",
       "  <thead>\n",
       "    <tr style=\"text-align: right;\">\n",
       "      <th></th>\n",
       "      <th>Name</th>\n",
       "      <th>Min</th>\n",
       "      <th>Max</th>\n",
       "      <th>Mean</th>\n",
       "      <th>Median</th>\n",
       "    </tr>\n",
       "  </thead>\n",
       "  <tbody>\n",
       "    <tr>\n",
       "      <th>0</th>\n",
       "      <td>AEP</td>\n",
       "      <td>-0.123103</td>\n",
       "      <td>0.110491</td>\n",
       "      <td>0.000268</td>\n",
       "      <td>0.001234</td>\n",
       "    </tr>\n",
       "    <tr>\n",
       "      <th>1</th>\n",
       "      <td>ALL</td>\n",
       "      <td>-0.151860</td>\n",
       "      <td>0.101690</td>\n",
       "      <td>0.000314</td>\n",
       "      <td>0.001232</td>\n",
       "    </tr>\n",
       "    <tr>\n",
       "      <th>2</th>\n",
       "      <td>WMT</td>\n",
       "      <td>-0.120765</td>\n",
       "      <td>0.110723</td>\n",
       "      <td>0.000426</td>\n",
       "      <td>0.000505</td>\n",
       "    </tr>\n",
       "    <tr>\n",
       "      <th>3</th>\n",
       "      <td>WRB</td>\n",
       "      <td>-0.167621</td>\n",
       "      <td>0.112930</td>\n",
       "      <td>0.000749</td>\n",
       "      <td>0.001284</td>\n",
       "    </tr>\n",
       "  </tbody>\n",
       "</table>\n",
       "</div>"
      ],
      "text/plain": [
       "  Name       Min       Max      Mean    Median\n",
       "0  AEP -0.123103  0.110491  0.000268  0.001234\n",
       "1  ALL -0.151860  0.101690  0.000314  0.001232\n",
       "2  WMT -0.120765  0.110723  0.000426  0.000505\n",
       "3  WRB -0.167621  0.112930  0.000749  0.001284"
      ]
     },
     "execution_count": 37,
     "metadata": {},
     "output_type": "execute_result"
    }
   ],
   "source": [
    "import numpy as np\n",
    "\n",
    "for ticker in tickers:\n",
    "    ticker['Log. Return'] = np.log(ticker[\"Adj Close\"]) - np.log(ticker[\"Adj Close\"].shift(1))\n",
    "\n",
    "data = { \"Name\":[\"AEP\", \"ALL\", \"WMT\", \"WRB\"], \n",
    "        \"Min\":[aep[\"Log. Return\"].min(),all[\"Log. Return\"].min(),wmt[\"Log. Return\"].min(),wrb[\"Log. Return\"].min()], \n",
    "        \"Max\":[aep[\"Log. Return\"].max(),all[\"Log. Return\"].max(),wmt[\"Log. Return\"].max(),wrb[\"Log. Return\"].max()],\n",
    "        \"Mean\":[aep[\"Log. Return\"].mean(),all[\"Log. Return\"].mean(),wmt[\"Log. Return\"].mean(),wrb[\"Log. Return\"].mean()],\n",
    "        \"Median\":[aep[\"Log. Return\"].median(),all[\"Log. Return\"].median(),wmt[\"Log. Return\"].median(),wrb[\"Log. Return\"].median()]\n",
    "        \n",
    "        }\n",
    "\n",
    "log_return_stats = pd.DataFrame(data)\n",
    "\n",
    "log_return_stats"
   ]
  },
  {
   "cell_type": "markdown",
   "metadata": {},
   "source": [
    "4. When did each company record the highest gain and highest loss for the day?\n",
    "(logarithmic loss). Hint: idxmax"
   ]
  },
  {
   "cell_type": "code",
   "execution_count": 44,
   "metadata": {},
   "outputs": [
    {
     "data": {
      "text/html": [
       "<div>\n",
       "<style scoped>\n",
       "    .dataframe tbody tr th:only-of-type {\n",
       "        vertical-align: middle;\n",
       "    }\n",
       "\n",
       "    .dataframe tbody tr th {\n",
       "        vertical-align: top;\n",
       "    }\n",
       "\n",
       "    .dataframe thead th {\n",
       "        text-align: right;\n",
       "    }\n",
       "</style>\n",
       "<table border=\"1\" class=\"dataframe\">\n",
       "  <thead>\n",
       "    <tr style=\"text-align: right;\">\n",
       "      <th></th>\n",
       "      <th>Name</th>\n",
       "      <th>Min</th>\n",
       "      <th>Max</th>\n",
       "      <th>Mean</th>\n",
       "      <th>Median</th>\n",
       "      <th>Highest gain</th>\n",
       "      <th>Highest loss</th>\n",
       "    </tr>\n",
       "  </thead>\n",
       "  <tbody>\n",
       "    <tr>\n",
       "      <th>0</th>\n",
       "      <td>AEP</td>\n",
       "      <td>-0.123103</td>\n",
       "      <td>0.110491</td>\n",
       "      <td>0.000268</td>\n",
       "      <td>0.001234</td>\n",
       "      <td>2020-03-17</td>\n",
       "      <td>2020-03-20</td>\n",
       "    </tr>\n",
       "    <tr>\n",
       "      <th>1</th>\n",
       "      <td>ALL</td>\n",
       "      <td>-0.151860</td>\n",
       "      <td>0.101690</td>\n",
       "      <td>0.000314</td>\n",
       "      <td>0.001232</td>\n",
       "      <td>2020-03-13</td>\n",
       "      <td>2020-03-18</td>\n",
       "    </tr>\n",
       "    <tr>\n",
       "      <th>2</th>\n",
       "      <td>WMT</td>\n",
       "      <td>-0.120765</td>\n",
       "      <td>0.110723</td>\n",
       "      <td>0.000426</td>\n",
       "      <td>0.000505</td>\n",
       "      <td>2020-03-17</td>\n",
       "      <td>2022-05-17</td>\n",
       "    </tr>\n",
       "    <tr>\n",
       "      <th>3</th>\n",
       "      <td>WRB</td>\n",
       "      <td>-0.167621</td>\n",
       "      <td>0.112930</td>\n",
       "      <td>0.000749</td>\n",
       "      <td>0.001284</td>\n",
       "      <td>2020-03-17</td>\n",
       "      <td>2020-03-16</td>\n",
       "    </tr>\n",
       "  </tbody>\n",
       "</table>\n",
       "</div>"
      ],
      "text/plain": [
       "  Name       Min       Max      Mean    Median Highest gain Highest loss\n",
       "0  AEP -0.123103  0.110491  0.000268  0.001234   2020-03-17   2020-03-20\n",
       "1  ALL -0.151860  0.101690  0.000314  0.001232   2020-03-13   2020-03-18\n",
       "2  WMT -0.120765  0.110723  0.000426  0.000505   2020-03-17   2022-05-17\n",
       "3  WRB -0.167621  0.112930  0.000749  0.001284   2020-03-17   2020-03-16"
      ]
     },
     "execution_count": 44,
     "metadata": {},
     "output_type": "execute_result"
    }
   ],
   "source": [
    "all_index = all[\"Log. Return\"].idxmax()\n",
    "\n",
    "all.loc[all_index, \"Date\"]\n",
    "\n",
    "highest_gains = []\n",
    "highest_losses = []\n",
    "\n",
    "for ticker in tickers:\n",
    "    highest_gain_date = ticker.loc[ticker[\"Log. Return\"].idxmax()][\"Date\"]\n",
    "    highest_loss_date = ticker.loc[ticker[\"Log. Return\"].idxmin()][\"Date\"]\n",
    "\n",
    "    highest_gains.append(highest_gain_date)\n",
    "    highest_losses.append(highest_loss_date)\n",
    "\n",
    "log_return_stats[\"Highest gain\"] = highest_gains\n",
    "log_return_stats[\"Highest loss\"] = highest_losses\n",
    "\n",
    "log_return_stats"
   ]
  },
  {
   "cell_type": "markdown",
   "metadata": {},
   "source": [
    "5. What is the average calendar weekly volume for each company? Hint: check how to\n",
    "resample pandas DF"
   ]
  },
  {
   "cell_type": "code",
   "execution_count": 45,
   "metadata": {},
   "outputs": [
    {
     "ename": "TypeError",
     "evalue": "Only valid with DatetimeIndex, TimedeltaIndex or PeriodIndex, but got an instance of 'RangeIndex'",
     "output_type": "error",
     "traceback": [
      "\u001b[0;31m---------------------------------------------------------------------------\u001b[0m",
      "\u001b[0;31mTypeError\u001b[0m                                 Traceback (most recent call last)",
      "\u001b[1;32m/Users/stepancimler/Documents/PythonIESMidterm/main.ipynb Cell 11\u001b[0m line \u001b[0;36m1\n\u001b[0;32m----> <a href='vscode-notebook-cell:/Users/stepancimler/Documents/PythonIESMidterm/main.ipynb#X20sZmlsZQ%3D%3D?line=0'>1</a>\u001b[0m \u001b[39mall\u001b[39;49m\u001b[39m.\u001b[39;49mresample(\u001b[39m\"\u001b[39;49m\u001b[39mW-MON\u001b[39;49m\u001b[39m\"\u001b[39;49m)\n",
      "File \u001b[0;32m/Library/Frameworks/Python.framework/Versions/3.10/lib/python3.10/site-packages/pandas/core/frame.py:10547\u001b[0m, in \u001b[0;36mDataFrame.resample\u001b[0;34m(self, rule, axis, closed, label, convention, kind, loffset, base, on, level, origin, offset)\u001b[0m\n\u001b[1;32m  10531\u001b[0m \u001b[39m@doc\u001b[39m(NDFrame\u001b[39m.\u001b[39mresample, \u001b[39m*\u001b[39m\u001b[39m*\u001b[39m_shared_doc_kwargs)\n\u001b[1;32m  10532\u001b[0m \u001b[39mdef\u001b[39;00m \u001b[39mresample\u001b[39m(\n\u001b[1;32m  10533\u001b[0m     \u001b[39mself\u001b[39m,\n\u001b[0;32m   (...)\u001b[0m\n\u001b[1;32m  10545\u001b[0m     offset: TimedeltaConvertibleTypes \u001b[39m|\u001b[39m \u001b[39mNone\u001b[39;00m \u001b[39m=\u001b[39m \u001b[39mNone\u001b[39;00m,\n\u001b[1;32m  10546\u001b[0m ) \u001b[39m-\u001b[39m\u001b[39m>\u001b[39m Resampler:\n\u001b[0;32m> 10547\u001b[0m     \u001b[39mreturn\u001b[39;00m \u001b[39msuper\u001b[39;49m()\u001b[39m.\u001b[39;49mresample(\n\u001b[1;32m  10548\u001b[0m         rule\u001b[39m=\u001b[39;49mrule,\n\u001b[1;32m  10549\u001b[0m         axis\u001b[39m=\u001b[39;49maxis,\n\u001b[1;32m  10550\u001b[0m         closed\u001b[39m=\u001b[39;49mclosed,\n\u001b[1;32m  10551\u001b[0m         label\u001b[39m=\u001b[39;49mlabel,\n\u001b[1;32m  10552\u001b[0m         convention\u001b[39m=\u001b[39;49mconvention,\n\u001b[1;32m  10553\u001b[0m         kind\u001b[39m=\u001b[39;49mkind,\n\u001b[1;32m  10554\u001b[0m         loffset\u001b[39m=\u001b[39;49mloffset,\n\u001b[1;32m  10555\u001b[0m         base\u001b[39m=\u001b[39;49mbase,\n\u001b[1;32m  10556\u001b[0m         on\u001b[39m=\u001b[39;49mon,\n\u001b[1;32m  10557\u001b[0m         level\u001b[39m=\u001b[39;49mlevel,\n\u001b[1;32m  10558\u001b[0m         origin\u001b[39m=\u001b[39;49morigin,\n\u001b[1;32m  10559\u001b[0m         offset\u001b[39m=\u001b[39;49moffset,\n\u001b[1;32m  10560\u001b[0m     )\n",
      "File \u001b[0;32m/Library/Frameworks/Python.framework/Versions/3.10/lib/python3.10/site-packages/pandas/core/generic.py:8308\u001b[0m, in \u001b[0;36mNDFrame.resample\u001b[0;34m(self, rule, axis, closed, label, convention, kind, loffset, base, on, level, origin, offset)\u001b[0m\n\u001b[1;32m   8305\u001b[0m \u001b[39mfrom\u001b[39;00m \u001b[39mpandas\u001b[39;00m\u001b[39m.\u001b[39;00m\u001b[39mcore\u001b[39;00m\u001b[39m.\u001b[39;00m\u001b[39mresample\u001b[39;00m \u001b[39mimport\u001b[39;00m get_resampler\n\u001b[1;32m   8307\u001b[0m axis \u001b[39m=\u001b[39m \u001b[39mself\u001b[39m\u001b[39m.\u001b[39m_get_axis_number(axis)\n\u001b[0;32m-> 8308\u001b[0m \u001b[39mreturn\u001b[39;00m get_resampler(\n\u001b[1;32m   8309\u001b[0m     \u001b[39mself\u001b[39;49m,\n\u001b[1;32m   8310\u001b[0m     freq\u001b[39m=\u001b[39;49mrule,\n\u001b[1;32m   8311\u001b[0m     label\u001b[39m=\u001b[39;49mlabel,\n\u001b[1;32m   8312\u001b[0m     closed\u001b[39m=\u001b[39;49mclosed,\n\u001b[1;32m   8313\u001b[0m     axis\u001b[39m=\u001b[39;49maxis,\n\u001b[1;32m   8314\u001b[0m     kind\u001b[39m=\u001b[39;49mkind,\n\u001b[1;32m   8315\u001b[0m     loffset\u001b[39m=\u001b[39;49mloffset,\n\u001b[1;32m   8316\u001b[0m     convention\u001b[39m=\u001b[39;49mconvention,\n\u001b[1;32m   8317\u001b[0m     base\u001b[39m=\u001b[39;49mbase,\n\u001b[1;32m   8318\u001b[0m     key\u001b[39m=\u001b[39;49mon,\n\u001b[1;32m   8319\u001b[0m     level\u001b[39m=\u001b[39;49mlevel,\n\u001b[1;32m   8320\u001b[0m     origin\u001b[39m=\u001b[39;49morigin,\n\u001b[1;32m   8321\u001b[0m     offset\u001b[39m=\u001b[39;49moffset,\n\u001b[1;32m   8322\u001b[0m )\n",
      "File \u001b[0;32m/Library/Frameworks/Python.framework/Versions/3.10/lib/python3.10/site-packages/pandas/core/resample.py:1423\u001b[0m, in \u001b[0;36mget_resampler\u001b[0;34m(obj, kind, **kwds)\u001b[0m\n\u001b[1;32m   1419\u001b[0m \u001b[39m\u001b[39m\u001b[39m\"\"\"\u001b[39;00m\n\u001b[1;32m   1420\u001b[0m \u001b[39mCreate a TimeGrouper and return our resampler.\u001b[39;00m\n\u001b[1;32m   1421\u001b[0m \u001b[39m\"\"\"\u001b[39;00m\n\u001b[1;32m   1422\u001b[0m tg \u001b[39m=\u001b[39m TimeGrouper(\u001b[39m*\u001b[39m\u001b[39m*\u001b[39mkwds)\n\u001b[0;32m-> 1423\u001b[0m \u001b[39mreturn\u001b[39;00m tg\u001b[39m.\u001b[39;49m_get_resampler(obj, kind\u001b[39m=\u001b[39;49mkind)\n",
      "File \u001b[0;32m/Library/Frameworks/Python.framework/Versions/3.10/lib/python3.10/site-packages/pandas/core/resample.py:1599\u001b[0m, in \u001b[0;36mTimeGrouper._get_resampler\u001b[0;34m(self, obj, kind)\u001b[0m\n\u001b[1;32m   1596\u001b[0m \u001b[39melif\u001b[39;00m \u001b[39misinstance\u001b[39m(ax, TimedeltaIndex):\n\u001b[1;32m   1597\u001b[0m     \u001b[39mreturn\u001b[39;00m TimedeltaIndexResampler(obj, groupby\u001b[39m=\u001b[39m\u001b[39mself\u001b[39m, axis\u001b[39m=\u001b[39m\u001b[39mself\u001b[39m\u001b[39m.\u001b[39maxis)\n\u001b[0;32m-> 1599\u001b[0m \u001b[39mraise\u001b[39;00m \u001b[39mTypeError\u001b[39;00m(\n\u001b[1;32m   1600\u001b[0m     \u001b[39m\"\u001b[39m\u001b[39mOnly valid with DatetimeIndex, \u001b[39m\u001b[39m\"\u001b[39m\n\u001b[1;32m   1601\u001b[0m     \u001b[39m\"\u001b[39m\u001b[39mTimedeltaIndex or PeriodIndex, \u001b[39m\u001b[39m\"\u001b[39m\n\u001b[1;32m   1602\u001b[0m     \u001b[39mf\u001b[39m\u001b[39m\"\u001b[39m\u001b[39mbut got an instance of \u001b[39m\u001b[39m'\u001b[39m\u001b[39m{\u001b[39;00m\u001b[39mtype\u001b[39m(ax)\u001b[39m.\u001b[39m\u001b[39m__name__\u001b[39m\u001b[39m}\u001b[39;00m\u001b[39m'\u001b[39m\u001b[39m\"\u001b[39m\n\u001b[1;32m   1603\u001b[0m )\n",
      "\u001b[0;31mTypeError\u001b[0m: Only valid with DatetimeIndex, TimedeltaIndex or PeriodIndex, but got an instance of 'RangeIndex'"
     ]
    }
   ],
   "source": [
    "all.resample(\"W-MON\")"
   ]
  }
 ],
 "metadata": {
  "kernelspec": {
   "display_name": "Python 3",
   "language": "python",
   "name": "python3"
  },
  "language_info": {
   "codemirror_mode": {
    "name": "ipython",
    "version": 3
   },
   "file_extension": ".py",
   "mimetype": "text/x-python",
   "name": "python",
   "nbconvert_exporter": "python",
   "pygments_lexer": "ipython3",
   "version": "3.10.5"
  }
 },
 "nbformat": 4,
 "nbformat_minor": 2
}
