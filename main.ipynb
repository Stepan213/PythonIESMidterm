{
 "cells": [
  {
   "cell_type": "code",
   "execution_count": 16,
   "metadata": {},
   "outputs": [
    {
     "name": "stdout",
     "output_type": "stream",
     "text": [
      "        Date       High        Low       Open      Close     Volume  Adj Close\n",
      "0 2017-11-13  76.300003  74.699997  74.769997  76.129997  2280700.0  64.259972\n",
      "1 2017-11-14  77.440002  75.779999  75.930000  77.389999  2050500.0  65.323524\n",
      "2 2017-11-15  77.930000  76.459999  77.570000  76.589996  2187200.0  64.648254\n",
      "3 2017-11-16  76.790001  76.309998  76.570000  76.760002  1750100.0  64.791740\n",
      "4 2017-11-17  76.889999  76.099998  76.489998  76.379997  1720900.0  64.471001\n",
      "        Date        High        Low        Open       Close     Volume  \\\n",
      "0 2017-11-13   99.970001  98.760002   98.900002   99.440002  1851400.0   \n",
      "1 2017-11-14  100.050003  98.510002   98.889999   99.940002  2148300.0   \n",
      "2 2017-11-15  101.120003  99.300003   99.480003  100.379997  2548900.0   \n",
      "3 2017-11-16  100.699997  99.169998  100.510002   99.570000  2138400.0   \n",
      "4 2017-11-17  100.430000  99.050003   99.050003  100.169998  2880000.0   \n",
      "\n",
      "   Adj Close  \n",
      "0  88.976433  \n",
      "1  89.423820  \n",
      "2  89.817535  \n",
      "3  89.092781  \n",
      "4  89.629654  \n",
      "        Date        High        Low       Open      Close      Volume  \\\n",
      "0 2017-11-13   91.980003  90.870003  91.040001  90.989998   8491600.0   \n",
      "1 2017-11-14   91.199997  90.180000  90.699997  91.089996   9834100.0   \n",
      "2 2017-11-15   90.849998  89.650002  90.339996  89.830002   8433400.0   \n",
      "3 2017-11-16   99.680000  94.720001  95.120003  99.620003  38122400.0   \n",
      "4 2017-11-17  100.129997  96.580002  99.239998  97.470001  23575500.0   \n",
      "\n",
      "   Adj Close  \n",
      "0  83.464844  \n",
      "1  83.556557  \n",
      "2  82.400780  \n",
      "3  91.381104  \n",
      "4  89.408928  \n",
      "        Date       High        Low       Open      Close     Volume  Adj Close\n",
      "0 2017-11-13  30.537779  30.257778  30.408890  30.280001   879075.0  27.182333\n",
      "1 2017-11-14  30.324444  30.022223  30.284445  30.124443  1148175.0  27.042690\n",
      "2 2017-11-15  30.488890  29.946667  30.040001  30.266666   811575.0  27.170368\n",
      "3 2017-11-16  30.342222  29.760000  30.266666  29.813334   980775.0  26.763409\n",
      "4 2017-11-17  29.942223  29.697779  29.755556  29.795555   953325.0  26.747446\n"
     ]
    }
   ],
   "source": [
    "import pandas as pd\n",
    "\n",
    "# Import all 4 tickers from the files to pandas DataFrames\n",
    "aep = pd.read_csv(\"data/AEP.csv\")\n",
    "all = pd.read_csv(\"data/ALL.csv\")\n",
    "wmt = pd.read_csv(\"data/WMT.csv\")\n",
    "wrb = pd.read_csv(\"data/WRB.csv\")\n",
    "\n",
    "tickers = [aep, all, wmt, wrb]\n",
    "\n",
    "# Make sure that dates are datetimes format\n",
    "for ticker in tickers:\n",
    "    ticker[\"Date\"] = pd.to_datetime(ticker[\"Date\"])"
   ]
  },
  {
   "cell_type": "markdown",
   "metadata": {},
   "source": [
    "1) Is there a company that has no difference between the Close and Adj Close columns?\n",
    "What does it mean from the financial point of view for the stock (you can get bonus\n",
    "partial points)?\n",
    "\n",
    "<strong>No.</strong> Not commenting on the implications at this point."
   ]
  },
  {
   "cell_type": "code",
   "execution_count": 17,
   "metadata": {},
   "outputs": [
    {
     "name": "stdout",
     "output_type": "stream",
     "text": [
      "0\n"
     ]
    }
   ],
   "source": [
    "have_identical_cols = []\n",
    "\n",
    "for ticker in tickers:\n",
    "    if ticker[\"Close\"].equals(ticker[\"Adj Close\"]):\n",
    "        have_identical_cols.append(ticker)\n",
    "    \n",
    "print(len(have_identical_cols))"
   ]
  },
  {
   "cell_type": "markdown",
   "metadata": {},
   "source": [
    "2. What is the highest and lowest price (Adj Close) each company recorded?"
   ]
  },
  {
   "cell_type": "code",
   "execution_count": 24,
   "metadata": {},
   "outputs": [
    {
     "data": {
      "text/html": [
       "<div>\n",
       "<style scoped>\n",
       "    .dataframe tbody tr th:only-of-type {\n",
       "        vertical-align: middle;\n",
       "    }\n",
       "\n",
       "    .dataframe tbody tr th {\n",
       "        vertical-align: top;\n",
       "    }\n",
       "\n",
       "    .dataframe thead th {\n",
       "        text-align: right;\n",
       "    }\n",
       "</style>\n",
       "<table border=\"1\" class=\"dataframe\">\n",
       "  <thead>\n",
       "    <tr style=\"text-align: right;\">\n",
       "      <th></th>\n",
       "      <th>Name</th>\n",
       "      <th>Highest</th>\n",
       "      <th>Lowest</th>\n",
       "    </tr>\n",
       "  </thead>\n",
       "  <tbody>\n",
       "    <tr>\n",
       "      <th>0</th>\n",
       "      <td>AEP</td>\n",
       "      <td>104.201859</td>\n",
       "      <td>54.017570</td>\n",
       "    </tr>\n",
       "    <tr>\n",
       "      <th>1</th>\n",
       "      <td>ALL</td>\n",
       "      <td>141.972992</td>\n",
       "      <td>68.755844</td>\n",
       "    </tr>\n",
       "    <tr>\n",
       "      <th>2</th>\n",
       "      <td>WMT</td>\n",
       "      <td>159.869995</td>\n",
       "      <td>77.321236</td>\n",
       "    </tr>\n",
       "    <tr>\n",
       "      <th>3</th>\n",
       "      <td>WRB</td>\n",
       "      <td>75.290001</td>\n",
       "      <td>26.408318</td>\n",
       "    </tr>\n",
       "  </tbody>\n",
       "</table>\n",
       "</div>"
      ],
      "text/plain": [
       "  Name     Highest     Lowest\n",
       "0  AEP  104.201859  54.017570\n",
       "1  ALL  141.972992  68.755844\n",
       "2  WMT  159.869995  77.321236\n",
       "3  WRB   75.290001  26.408318"
      ]
     },
     "execution_count": 24,
     "metadata": {},
     "output_type": "execute_result"
    }
   ],
   "source": [
    "data = {\"Name\":[\"AEP\", \"ALL\", \"WMT\", \"WRB\"], \"Highest\":[-1,-1,-1,-1], \"Lowest\":[-1,-1,-1,-1]}\n",
    "extremes = pd.DataFrame(data)\n",
    "\n",
    "extremes[\"Highest\"] = pd.Series([aep[\"Adj Close\"].max(), all[\"Adj Close\"].max(), wmt[\"Adj Close\"].max(), wrb[\"Adj Close\"].max()])\n",
    "extremes[\"Lowest\"] = pd.Series([aep[\"Adj Close\"].min(), all[\"Adj Close\"].min(), wmt[\"Adj Close\"].min(), wrb[\"Adj Close\"].min()])\n",
    "\n",
    "extremes"
   ]
  },
  {
   "cell_type": "markdown",
   "metadata": {},
   "source": [
    "3. (1pt task) Calculate logarithmic returns from Adj Close. For each company report on\n",
    "its, min, max, mean, median of the return distribution."
   ]
  },
  {
   "cell_type": "code",
   "execution_count": 37,
   "metadata": {},
   "outputs": [
    {
     "data": {
      "text/html": [
       "<div>\n",
       "<style scoped>\n",
       "    .dataframe tbody tr th:only-of-type {\n",
       "        vertical-align: middle;\n",
       "    }\n",
       "\n",
       "    .dataframe tbody tr th {\n",
       "        vertical-align: top;\n",
       "    }\n",
       "\n",
       "    .dataframe thead th {\n",
       "        text-align: right;\n",
       "    }\n",
       "</style>\n",
       "<table border=\"1\" class=\"dataframe\">\n",
       "  <thead>\n",
       "    <tr style=\"text-align: right;\">\n",
       "      <th></th>\n",
       "      <th>Name</th>\n",
       "      <th>Min</th>\n",
       "      <th>Max</th>\n",
       "      <th>Mean</th>\n",
       "      <th>Median</th>\n",
       "    </tr>\n",
       "  </thead>\n",
       "  <tbody>\n",
       "    <tr>\n",
       "      <th>0</th>\n",
       "      <td>AEP</td>\n",
       "      <td>-0.123103</td>\n",
       "      <td>0.110491</td>\n",
       "      <td>0.000268</td>\n",
       "      <td>0.001234</td>\n",
       "    </tr>\n",
       "    <tr>\n",
       "      <th>1</th>\n",
       "      <td>ALL</td>\n",
       "      <td>-0.151860</td>\n",
       "      <td>0.101690</td>\n",
       "      <td>0.000314</td>\n",
       "      <td>0.001232</td>\n",
       "    </tr>\n",
       "    <tr>\n",
       "      <th>2</th>\n",
       "      <td>WMT</td>\n",
       "      <td>-0.120765</td>\n",
       "      <td>0.110723</td>\n",
       "      <td>0.000426</td>\n",
       "      <td>0.000505</td>\n",
       "    </tr>\n",
       "    <tr>\n",
       "      <th>3</th>\n",
       "      <td>WRB</td>\n",
       "      <td>-0.167621</td>\n",
       "      <td>0.112930</td>\n",
       "      <td>0.000749</td>\n",
       "      <td>0.001284</td>\n",
       "    </tr>\n",
       "  </tbody>\n",
       "</table>\n",
       "</div>"
      ],
      "text/plain": [
       "  Name       Min       Max      Mean    Median\n",
       "0  AEP -0.123103  0.110491  0.000268  0.001234\n",
       "1  ALL -0.151860  0.101690  0.000314  0.001232\n",
       "2  WMT -0.120765  0.110723  0.000426  0.000505\n",
       "3  WRB -0.167621  0.112930  0.000749  0.001284"
      ]
     },
     "execution_count": 37,
     "metadata": {},
     "output_type": "execute_result"
    }
   ],
   "source": [
    "import numpy as np\n",
    "\n",
    "for ticker in tickers:\n",
    "    ticker['Log. Return'] = np.log(ticker[\"Adj Close\"]) - np.log(ticker[\"Adj Close\"].shift(1))\n",
    "\n",
    "data = { \"Name\":[\"AEP\", \"ALL\", \"WMT\", \"WRB\"], \n",
    "        \"Min\":[aep[\"Log. Return\"].min(),all[\"Log. Return\"].min(),wmt[\"Log. Return\"].min(),wrb[\"Log. Return\"].min()], \n",
    "        \"Max\":[aep[\"Log. Return\"].max(),all[\"Log. Return\"].max(),wmt[\"Log. Return\"].max(),wrb[\"Log. Return\"].max()],\n",
    "        \"Mean\":[aep[\"Log. Return\"].mean(),all[\"Log. Return\"].mean(),wmt[\"Log. Return\"].mean(),wrb[\"Log. Return\"].mean()],\n",
    "        \"Median\":[aep[\"Log. Return\"].median(),all[\"Log. Return\"].median(),wmt[\"Log. Return\"].median(),wrb[\"Log. Return\"].median()]\n",
    "        \n",
    "        }\n",
    "\n",
    "log_return_stats = pd.DataFrame(data)\n",
    "\n",
    "log_return_stats"
   ]
  },
  {
   "cell_type": "markdown",
   "metadata": {},
   "source": [
    "4. When did each company record the highest gain and highest loss for the day?\n",
    "(logarithmic loss). Hint: idxmax"
   ]
  },
  {
   "cell_type": "code",
   "execution_count": 44,
   "metadata": {},
   "outputs": [
    {
     "data": {
      "text/html": [
       "<div>\n",
       "<style scoped>\n",
       "    .dataframe tbody tr th:only-of-type {\n",
       "        vertical-align: middle;\n",
       "    }\n",
       "\n",
       "    .dataframe tbody tr th {\n",
       "        vertical-align: top;\n",
       "    }\n",
       "\n",
       "    .dataframe thead th {\n",
       "        text-align: right;\n",
       "    }\n",
       "</style>\n",
       "<table border=\"1\" class=\"dataframe\">\n",
       "  <thead>\n",
       "    <tr style=\"text-align: right;\">\n",
       "      <th></th>\n",
       "      <th>Name</th>\n",
       "      <th>Min</th>\n",
       "      <th>Max</th>\n",
       "      <th>Mean</th>\n",
       "      <th>Median</th>\n",
       "      <th>Highest gain</th>\n",
       "      <th>Highest loss</th>\n",
       "    </tr>\n",
       "  </thead>\n",
       "  <tbody>\n",
       "    <tr>\n",
       "      <th>0</th>\n",
       "      <td>AEP</td>\n",
       "      <td>-0.123103</td>\n",
       "      <td>0.110491</td>\n",
       "      <td>0.000268</td>\n",
       "      <td>0.001234</td>\n",
       "      <td>2020-03-17</td>\n",
       "      <td>2020-03-20</td>\n",
       "    </tr>\n",
       "    <tr>\n",
       "      <th>1</th>\n",
       "      <td>ALL</td>\n",
       "      <td>-0.151860</td>\n",
       "      <td>0.101690</td>\n",
       "      <td>0.000314</td>\n",
       "      <td>0.001232</td>\n",
       "      <td>2020-03-13</td>\n",
       "      <td>2020-03-18</td>\n",
       "    </tr>\n",
       "    <tr>\n",
       "      <th>2</th>\n",
       "      <td>WMT</td>\n",
       "      <td>-0.120765</td>\n",
       "      <td>0.110723</td>\n",
       "      <td>0.000426</td>\n",
       "      <td>0.000505</td>\n",
       "      <td>2020-03-17</td>\n",
       "      <td>2022-05-17</td>\n",
       "    </tr>\n",
       "    <tr>\n",
       "      <th>3</th>\n",
       "      <td>WRB</td>\n",
       "      <td>-0.167621</td>\n",
       "      <td>0.112930</td>\n",
       "      <td>0.000749</td>\n",
       "      <td>0.001284</td>\n",
       "      <td>2020-03-17</td>\n",
       "      <td>2020-03-16</td>\n",
       "    </tr>\n",
       "  </tbody>\n",
       "</table>\n",
       "</div>"
      ],
      "text/plain": [
       "  Name       Min       Max      Mean    Median Highest gain Highest loss\n",
       "0  AEP -0.123103  0.110491  0.000268  0.001234   2020-03-17   2020-03-20\n",
       "1  ALL -0.151860  0.101690  0.000314  0.001232   2020-03-13   2020-03-18\n",
       "2  WMT -0.120765  0.110723  0.000426  0.000505   2020-03-17   2022-05-17\n",
       "3  WRB -0.167621  0.112930  0.000749  0.001284   2020-03-17   2020-03-16"
      ]
     },
     "execution_count": 44,
     "metadata": {},
     "output_type": "execute_result"
    }
   ],
   "source": [
    "all_index = all[\"Log. Return\"].idxmax()\n",
    "\n",
    "all.loc[all_index, \"Date\"]\n",
    "\n",
    "highest_gains = []\n",
    "highest_losses = []\n",
    "\n",
    "for ticker in tickers:\n",
    "    highest_gain_date = ticker.loc[ticker[\"Log. Return\"].idxmax()][\"Date\"]\n",
    "    highest_loss_date = ticker.loc[ticker[\"Log. Return\"].idxmin()][\"Date\"]\n",
    "\n",
    "    highest_gains.append(highest_gain_date)\n",
    "    highest_losses.append(highest_loss_date)\n",
    "\n",
    "log_return_stats[\"Highest gain\"] = highest_gains\n",
    "log_return_stats[\"Highest loss\"] = highest_losses\n",
    "\n",
    "log_return_stats"
   ]
  },
  {
   "cell_type": "markdown",
   "metadata": {},
   "source": [
    "5. What is the average calendar weekly volume for each company? Hint: check how to\n",
    "resample pandas DF"
   ]
  },
  {
   "cell_type": "code",
   "execution_count": 46,
   "metadata": {},
   "outputs": [],
   "source": [
    "# Skipped."
   ]
  },
  {
   "cell_type": "markdown",
   "metadata": {},
   "source": [
    "6. Which company recorded the highest total return over the whole period?\n",
    "\n",
    "<strong>WRB.</strong>"
   ]
  },
  {
   "cell_type": "code",
   "execution_count": 75,
   "metadata": {},
   "outputs": [
    {
     "name": "stdout",
     "output_type": "stream",
     "text": [
      "[0.40024965916442534, 0.4845503711568857, 0.7082641675831891, 1.5667405613116099]\n",
      "1.5667405613116099\n"
     ]
    }
   ],
   "source": [
    "first = all.iloc[0][\"Adj Close\"]\n",
    "last = all.iloc[-1][\"Adj Close\"]\n",
    "\n",
    "returns = []\n",
    "for ticker in tickers:\n",
    "    first = ticker.iloc[0][\"Adj Close\"]\n",
    "    last = ticker.iloc[-1][\"Adj Close\"]\n",
    "    rtrn = last / first - 1\n",
    "    returns.append(rtrn)\n",
    "\n",
    "log_return_stats[\"Total returns\"] = returns\n",
    "\n",
    "print(returns)\n",
    "print(log_return_stats[\"Total returns\"].max())\n"
   ]
  }
 ],
 "metadata": {
  "kernelspec": {
   "display_name": "Python 3",
   "language": "python",
   "name": "python3"
  },
  "language_info": {
   "codemirror_mode": {
    "name": "ipython",
    "version": 3
   },
   "file_extension": ".py",
   "mimetype": "text/x-python",
   "name": "python",
   "nbconvert_exporter": "python",
   "pygments_lexer": "ipython3",
   "version": "3.10.5"
  }
 },
 "nbformat": 4,
 "nbformat_minor": 2
}
